{
 "cells": [
  {
   "cell_type": "code",
   "execution_count": 3,
   "id": "cccf21ec-4edd-40d5-a7ee-b16c75405e6b",
   "metadata": {},
   "outputs": [
    {
     "name": "stdout",
     "output_type": "stream",
     "text": [
      "Requirement already satisfied: scipy in d:\\apps\\anaconda3\\lib\\site-packages (1.13.1)\n",
      "Requirement already satisfied: numpy<2.3,>=1.22.4 in d:\\apps\\anaconda3\\lib\\site-packages (from scipy) (1.26.4)\n"
     ]
    }
   ],
   "source": [
    "!pip install scipy"
   ]
  },
  {
   "cell_type": "code",
   "execution_count": 8,
   "id": "d076319a-7d73-4052-b504-f70f38b11bd0",
   "metadata": {},
   "outputs": [
    {
     "name": "stdout",
     "output_type": "stream",
     "text": [
      "Requirement already satisfied: gensim in d:\\apps\\anaconda3\\lib\\site-packages (4.3.3)\n",
      "Requirement already satisfied: numpy<2.0,>=1.18.5 in d:\\apps\\anaconda3\\lib\\site-packages (from gensim) (1.26.4)\n",
      "Requirement already satisfied: scipy<1.14.0,>=1.7.0 in d:\\apps\\anaconda3\\lib\\site-packages (from gensim) (1.13.1)\n",
      "Requirement already satisfied: smart-open>=1.8.1 in d:\\apps\\anaconda3\\lib\\site-packages (from gensim) (5.2.1)\n"
     ]
    }
   ],
   "source": [
    "!pip install gensim"
   ]
  },
  {
   "cell_type": "code",
   "execution_count": 5,
   "id": "f38438f2-f1ad-454f-b11c-c4354ef97290",
   "metadata": {},
   "outputs": [],
   "source": [
    "import nltk\n",
    "from gensim.models import Word2Vec\n",
    "from nltk.corpus import stopwords\n",
    "import re"
   ]
  },
  {
   "cell_type": "code",
   "execution_count": 7,
   "id": "b901bfb1-e3bb-4378-9945-78ea6751f62d",
   "metadata": {},
   "outputs": [],
   "source": [
    "paragraph = \"\"\"I have three visions for India. In 3000 years of our history, people from all over \n",
    "               the world have come and invaded us, captured our lands, conquered our minds. \n",
    "               From Alexander onwards, the Greeks, the Turks, the Moguls, the Portuguese, the British,\n",
    "               the French, the Dutch, all of them came and looted us, took over what was ours. \n",
    "               Yet we have not done this to any other nation. We have not conquered anyone. \n",
    "               We have not grabbed their land, their culture, \n",
    "               their history and tried to enforce our way of life on them. \n",
    "               Why? Because we respect the freedom of others.That is why my \n",
    "               first vision is that of freedom. I believe that India got its first vision of \n",
    "               this in 1857, when we started the War of Independence. It is this freedom that\n",
    "               we must protect and nurture and build on. If we are not free, no one will respect us.\n",
    "               My second vision for India’s development. For fifty years we have been a developing nation.\n",
    "               It is time we see ourselves as a developed nation. We are among the top 5 nations of the world\n",
    "               in terms of GDP. We have a 10 percent growth rate in most areas. Our poverty levels are falling.\n",
    "               Our achievements are being globally recognised today. Yet we lack the self-confidence to\n",
    "               see ourselves as a developed nation, self-reliant and self-assured. Isn’t this incorrect?\n",
    "               I have a third vision. India must stand up to the world. Because I believe that unless India \n",
    "               stands up to the world, no one will respect us. Only strength respects strength. We must be \n",
    "               strong not only as a military power but also as an economic power. Both must go hand-in-hand. \n",
    "               My good fortune was to have worked with three great minds. Dr. Vikram Sarabhai of the Dept. of \n",
    "               space, Professor Satish Dhawan, who succeeded him and Dr. Brahm Prakash, father of nuclear material.\n",
    "               I was lucky to have worked with all three of them closely and consider this the great opportunity of my life. \n",
    "               I see four milestones in my career\"\"\""
   ]
  },
  {
   "cell_type": "code",
   "execution_count": 9,
   "id": "975f0e50-da02-4967-9504-f533619cbe2d",
   "metadata": {},
   "outputs": [],
   "source": [
    "# Preprocessing the data\n",
    "text = re.sub(r'\\[[0-9]*\\]',' ',paragraph)\n",
    "text = re.sub(r'\\s+',' ',text)\n",
    "text = text.lower()\n",
    "text = re.sub(r'\\d',' ',text)\n",
    "text = re.sub(r'\\s+',' ',text)"
   ]
  },
  {
   "cell_type": "code",
   "execution_count": 11,
   "id": "ffd87c71-dcca-4217-9ec2-ac759cefbef8",
   "metadata": {},
   "outputs": [],
   "source": [
    "# Preparing the dataset\n",
    "sentences = nltk.sent_tokenize(text)\n",
    "\n",
    "sentences = [nltk.word_tokenize(sentence) for sentence in sentences]\n",
    "\n",
    "for i in range(len(sentences)):\n",
    "    sentences[i] = [word for word in sentences[i] if word not in stopwords.words('english')]"
   ]
  },
  {
   "cell_type": "code",
   "execution_count": 13,
   "id": "a4253cef-9611-4171-9fea-031143b49075",
   "metadata": {},
   "outputs": [],
   "source": [
    "# Training the Word2Vec model\n",
    "model = Word2Vec(sentences, min_count=1)"
   ]
  },
  {
   "cell_type": "code",
   "execution_count": 25,
   "id": "5c95fa79-f297-4036-88f2-1067284b4fb4",
   "metadata": {},
   "outputs": [
    {
     "data": {
      "text/plain": [
       "{'.': 0,\n",
       " ',': 1,\n",
       " 'india': 2,\n",
       " 'vision': 3,\n",
       " 'must': 4,\n",
       " 'nation': 5,\n",
       " 'world': 6,\n",
       " 'us': 7,\n",
       " 'three': 8,\n",
       " 'freedom': 9,\n",
       " 'respect': 10,\n",
       " 'see': 11,\n",
       " 'first': 12,\n",
       " 'power': 13,\n",
       " 'yet': 14,\n",
       " '’': 15,\n",
       " 'strength': 16,\n",
       " 'worked': 17,\n",
       " '?': 18,\n",
       " 'life': 19,\n",
       " 'believe': 20,\n",
       " 'dr.': 21,\n",
       " 'great': 22,\n",
       " 'minds': 23,\n",
       " 'one': 24,\n",
       " 'years': 25,\n",
       " 'history': 26,\n",
       " 'developed': 27,\n",
       " 'conquered': 28,\n",
       " 'protect': 29,\n",
       " 'others.that': 30,\n",
       " 'war': 31,\n",
       " 'nurture': 32,\n",
       " 'independence': 33,\n",
       " 'build': 34,\n",
       " 'free': 35,\n",
       " 'tried': 36,\n",
       " 'got': 37,\n",
       " 'started': 38,\n",
       " 'way': 39,\n",
       " 'enforce': 40,\n",
       " 'took': 41,\n",
       " 'culture': 42,\n",
       " 'turks': 43,\n",
       " 'visions': 44,\n",
       " 'people': 45,\n",
       " 'come': 46,\n",
       " 'invaded': 47,\n",
       " 'captured': 48,\n",
       " 'lands': 49,\n",
       " 'alexander': 50,\n",
       " 'onwards': 51,\n",
       " 'greeks': 52,\n",
       " 'moguls': 53,\n",
       " 'land': 54,\n",
       " 'portuguese': 55,\n",
       " 'british': 56,\n",
       " 'french': 57,\n",
       " 'dutch': 58,\n",
       " 'came': 59,\n",
       " 'looted': 60,\n",
       " 'done': 61,\n",
       " 'anyone': 62,\n",
       " 'grabbed': 63,\n",
       " 'second': 64,\n",
       " 'career': 65,\n",
       " 'development': 66,\n",
       " 'respects': 67,\n",
       " 'military': 68,\n",
       " 'also': 69,\n",
       " 'economic': 70,\n",
       " 'go': 71,\n",
       " 'hand-in-hand': 72,\n",
       " 'good': 73,\n",
       " 'fortune': 74,\n",
       " 'vikram': 75,\n",
       " 'sarabhai': 76,\n",
       " 'dept': 77,\n",
       " 'space': 78,\n",
       " 'professor': 79,\n",
       " 'satish': 80,\n",
       " 'dhawan': 81,\n",
       " 'succeeded': 82,\n",
       " 'brahm': 83,\n",
       " 'prakash': 84,\n",
       " 'father': 85,\n",
       " 'nuclear': 86,\n",
       " 'material': 87,\n",
       " 'lucky': 88,\n",
       " 'closely': 89,\n",
       " 'consider': 90,\n",
       " 'opportunity': 91,\n",
       " 'four': 92,\n",
       " 'strong': 93,\n",
       " 'stands': 94,\n",
       " 'fifty': 95,\n",
       " 'unless': 96,\n",
       " 'developing': 97,\n",
       " 'milestones': 98,\n",
       " 'among': 99,\n",
       " 'top': 100,\n",
       " 'nations': 101,\n",
       " 'terms': 102,\n",
       " 'gdp': 103,\n",
       " 'percent': 104,\n",
       " 'growth': 105,\n",
       " 'rate': 106,\n",
       " 'areas': 107,\n",
       " 'poverty': 108,\n",
       " 'levels': 109,\n",
       " 'falling': 110,\n",
       " 'achievements': 111,\n",
       " 'globally': 112,\n",
       " 'recognised': 113,\n",
       " 'today': 114,\n",
       " 'lack': 115,\n",
       " 'self-confidence': 116,\n",
       " 'self-reliant': 117,\n",
       " 'self-assured': 118,\n",
       " 'incorrect': 119,\n",
       " 'third': 120,\n",
       " 'stand': 121,\n",
       " 'time': 122}"
      ]
     },
     "execution_count": 25,
     "metadata": {},
     "output_type": "execute_result"
    }
   ],
   "source": [
    "words = model.wv.key_to_index\n",
    "words"
   ]
  },
  {
   "cell_type": "code",
   "execution_count": 27,
   "id": "47588563-abfe-4854-bc8d-524753a50e38",
   "metadata": {},
   "outputs": [
    {
     "data": {
      "text/plain": [
       "array([-0.00219905, -0.00970885,  0.00929075,  0.00203636, -0.00116388,\n",
       "       -0.00551955, -0.0085126 , -0.00989383,  0.00894091, -0.00250522,\n",
       "        0.00459427, -0.00452481,  0.00995189,  0.00366171,  0.00103129,\n",
       "       -0.00403834,  0.00122027, -0.00265451,  0.00735284,  0.00447542,\n",
       "        0.00099955,  0.0034782 ,  0.00372712, -0.00680036,  0.00893243,\n",
       "        0.00173499, -0.00579935,  0.00866838, -0.00129286,  0.00818304,\n",
       "       -0.0014927 ,  0.00698649,  0.00273452, -0.00436226, -0.00374683,\n",
       "        0.00919046,  0.00159645, -0.00599784,  0.00034776, -0.00195135,\n",
       "        0.00159242, -0.00771525,  0.00738298,  0.00131083,  0.00787099,\n",
       "        0.00445568, -0.00439675,  0.00376054, -0.0006357 , -0.00984484,\n",
       "        0.00825004,  0.00964326,  0.00965426, -0.00379659, -0.00844202,\n",
       "        0.00483581, -0.00765107,  0.00853567,  0.00275977,  0.00560496,\n",
       "        0.00611362,  0.00046455, -0.00209463,  0.000778  ,  0.00983559,\n",
       "       -0.00711718, -0.00155743, -0.00235984,  0.00487084,  0.00645515,\n",
       "       -0.0041403 ,  0.00361816, -0.00447258,  0.00326611,  0.0081738 ,\n",
       "        0.00361967, -0.0045711 , -0.00301938,  0.00787179,  0.00959686,\n",
       "        0.00580789, -0.00326881, -0.00183876, -0.00624998, -0.00429521,\n",
       "        0.00336554, -0.00648911, -0.00661903,  0.00811393,  0.0095074 ,\n",
       "        0.00814451,  0.00150699, -0.00880124, -0.00759764,  0.0015789 ,\n",
       "       -0.00952675, -0.00741688,  0.00203283, -0.00292885, -0.00916266],\n",
       "      dtype=float32)"
      ]
     },
     "execution_count": 27,
     "metadata": {},
     "output_type": "execute_result"
    }
   ],
   "source": [
    "# Finding Word Vectors\n",
    "vector = model.wv['war']\n",
    "vector"
   ]
  },
  {
   "cell_type": "code",
   "execution_count": 29,
   "id": "d12ed43a-0aad-463e-bb80-0a0bae1421c7",
   "metadata": {},
   "outputs": [],
   "source": [
    "# Most similar words\n",
    "similar = model.wv.most_similar('vikram')"
   ]
  },
  {
   "cell_type": "code",
   "execution_count": 23,
   "id": "b94c6c5b-e007-4ba5-a115-9030e6814754",
   "metadata": {},
   "outputs": [
    {
     "data": {
      "text/plain": [
       "[('visions', 0.1814650446176529),\n",
       " ('growth', 0.1663493812084198),\n",
       " ('one', 0.1643451750278473),\n",
       " ('took', 0.16432958841323853),\n",
       " (',', 0.15887506306171417),\n",
       " ('fifty', 0.1472669243812561),\n",
       " ('developing', 0.14714020490646362),\n",
       " ('worked', 0.13810549676418304),\n",
       " ('development', 0.13769839704036713),\n",
       " ('time', 0.13293516635894775)]"
      ]
     },
     "execution_count": 23,
     "metadata": {},
     "output_type": "execute_result"
    }
   ],
   "source": [
    "similar"
   ]
  },
  {
   "cell_type": "code",
   "execution_count": null,
   "id": "8debc21c-25ee-4069-b835-b44449317e78",
   "metadata": {},
   "outputs": [],
   "source": []
  }
 ],
 "metadata": {
  "kernelspec": {
   "display_name": "Python 3 (ipykernel)",
   "language": "python",
   "name": "python3"
  },
  "language_info": {
   "codemirror_mode": {
    "name": "ipython",
    "version": 3
   },
   "file_extension": ".py",
   "mimetype": "text/x-python",
   "name": "python",
   "nbconvert_exporter": "python",
   "pygments_lexer": "ipython3",
   "version": "3.12.4"
  }
 },
 "nbformat": 4,
 "nbformat_minor": 5
}
